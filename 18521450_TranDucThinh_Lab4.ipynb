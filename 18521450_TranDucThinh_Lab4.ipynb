{
 "cells": [
  {
   "cell_type": "code",
   "execution_count": 7,
   "id": "4194c8e0",
   "metadata": {},
   "outputs": [],
   "source": [
    "# 1.Classification"
   ]
  },
  {
   "cell_type": "code",
   "execution_count": 8,
   "id": "4a85b381",
   "metadata": {},
   "outputs": [],
   "source": [
    "#Import necessary modules\n",
    "from sklearn import datasets\n",
    "import matplotlib.pyplot as plt\n",
    "\n",
    "#Load the digits dataset: digits\n",
    "digits = datasets.load_digits()"
   ]
  },
  {
   "cell_type": "code",
   "execution_count": 9,
   "id": "71f1d770",
   "metadata": {},
   "outputs": [
    {
     "data": {
      "image/png": "[encoded data removed]",
      "text/plain": [
       "<Figure size 432x288 with 1 Axes>"
      ]
     },
     "metadata": {
      "needs_background": "light"
     },
     "output_type": "display_data"
    }
   ],
   "source": [
    "#Display image 1010\n",
    "plt.imshow(digits.images[1010], cmap=plt.cm.gray_r, interpolation='nearest')\n",
    "plt.show()"
   ]
  },
  {
   "cell_type": "code",
   "execution_count": 10,
   "id": "03d7699b",
   "metadata": {},
   "outputs": [],
   "source": [
    "from sklearn.model_selection import train_test_split\n",
    "X = digits.data\n",
    "y = digits.target\n",
    "\n",
    "#Split into training and test set\n",
    "X_train, X_test, y_train, y_test = train_test_split(X, y, test_size=0.2, random_state=42, stratify=y)"
   ]
  },
  {
   "cell_type": "code",
   "execution_count": 11,
   "id": "5c118f9d",
   "metadata": {},
   "outputs": [
    {
     "name": "stdout",
     "output_type": "stream",
     "text": [
      "Accuracy: 0.9861111111111112\n"
     ]
    }
   ],
   "source": [
    "#Import necessary modules\n",
    "from sklearn.neighbors import KNeighborsClassifier\n",
    "\n",
    "import numpy as np\n",
    "\n",
    "#Create a k-NN classifier with 3 neighbors: knn\n",
    "knn = KNeighborsClassifier(n_neighbors=3)\n",
    "\n",
    "#Fit the classifier to the training data\n",
    "knn.fit(X_train, y_train)\n",
    "\n",
    "#Print the accuracy\n",
    "print(\"Accuracy: {0}\".format(knn.score(X_test, y_test)))"
   ]
  },
  {
   "cell_type": "code",
   "execution_count": 12,
   "id": "7ae3b9f3",
   "metadata": {},
   "outputs": [],
   "source": [
    "# Varying Number of Neighbors "
   ]
  },
  {
   "cell_type": "code",
   "execution_count": 13,
   "id": "25b0e8c2",
   "metadata": {},
   "outputs": [
    {
     "data": {
      "image/png": "[encoded data removed]",
      "text/plain": [
       "<Figure size 432x288 with 1 Axes>"
      ]
     },
     "metadata": {
      "needs_background": "light"
     },
     "output_type": "display_data"
    }
   ],
   "source": [
    "# Setup arrays to store train and test accuracies\n",
    "neighbors = np.arange(1,9)\n",
    "train_accuracy = np.empty(len(neighbors))\n",
    "test_accuracy = np.empty(len(neighbors))\n",
    "\n",
    "#Loop over different values of k\n",
    "for i, k in enumerate(neighbors):\n",
    "    #Setup a k-NN Classifier with k neighbors: k-nn\n",
    "    knn = KNeighborsClassifier(n_neighbors=k)\n",
    "    \n",
    "    #Fit the classifier to the training data\n",
    "    knn.fit(X_train, y_train)\n",
    "    \n",
    "    #Compute accuracy on the training set\n",
    "    train_accuracy[i] = knn.score(X_train, y_train)\n",
    "    \n",
    "    #Compute accuracy on the testing set\n",
    "    test_accuracy[i] = knn.score(X_test, y_test)\n",
    "\n",
    "#Generate plot\n",
    "plt.title('k-NN: Varying Number of Neighbors')\n",
    "plt.plot(neighbors, test_accuracy, label = 'Testing Accuracy')\n",
    "plt.plot(neighbors, train_accuracy, label = 'Testing Accuracy')\n",
    "plt.legend()\n",
    "plt.xlabel('Number of Neighbors')\n",
    "plt.ylabel('Accuracy')\n",
    "plt.show()"
   ]
  },
  {
   "cell_type": "code",
   "execution_count": 14,
   "id": "69e58d62",
   "metadata": {},
   "outputs": [],
   "source": [
    "# Classification with deep learning "
   ]
  },
  {
   "cell_type": "code",
   "execution_count": 15,
   "id": "f6f7730c",
   "metadata": {},
   "outputs": [],
   "source": [
    "from __future__ import print_function\n",
    "import torch\n",
    "import torch.nn as nn\n",
    "import torch.nn.functional as F\n",
    "from torch.autograd import Variable"
   ]
  },
  {
   "cell_type": "code",
   "execution_count": 16,
   "id": "63dbce3b",
   "metadata": {},
   "outputs": [],
   "source": [
    "from torchvision import datasets, transforms\n",
    "mnist = datasets.MNIST(root='.', train=True, download=True)"
   ]
  },
  {
   "cell_type": "code",
   "execution_count": 17,
   "id": "24296f84",
   "metadata": {},
   "outputs": [
    {
     "name": "stdout",
     "output_type": "stream",
     "text": [
      "Number of training examples torch.Size([60000, 28, 28])\n",
      "Image information (<PIL.Image.Image image mode=L size=28x28 at 0x1A95D845A00>, 5)\n"
     ]
    }
   ],
   "source": [
    "print('Number of training examples', mnist.data.shape)\n",
    "print('Image information', mnist[0])"
   ]
  },
  {
   "cell_type": "code",
   "execution_count": 18,
   "id": "60a1ad8c",
   "metadata": {},
   "outputs": [
    {
     "data": {
      "text/plain": [
       "<matplotlib.image.AxesImage at 0x1a9650fe880>"
      ]
     },
     "execution_count": 18,
     "metadata": {},
     "output_type": "execute_result"
    },
    {
     "data": {
      "image/png": "[encoded data removed]",
      "text/plain": [
       "<Figure size 432x288 with 1 Axes>"
      ]
     },
     "metadata": {
      "needs_background": "light"
     },
     "output_type": "display_data"
    }
   ],
   "source": [
    "import matplotlib.pyplot as plt\n",
    "%matplotlib inline\n",
    "plt.imshow(mnist[0][0])"
   ]
  },
  {
   "cell_type": "code",
   "execution_count": 19,
   "id": "e06073e5",
   "metadata": {},
   "outputs": [],
   "source": [
    "class Net(nn.Module):\n",
    "    def __init__(self):\n",
    "        super(Net, self).__init__()\n",
    "        \n",
    "        self.fully = nn.Sequential(\n",
    "            nn.Linear(28*28,10)\n",
    "        )\n",
    "        \n",
    "    def forward(self, x):\n",
    "        x = x.view([-1,28*28])\n",
    "        x = self.fully(x)\n",
    "        x = F.log_softmax(x, dim=1)\n",
    "        return x"
   ]
  },
  {
   "cell_type": "code",
   "execution_count": 20,
   "id": "827ed04e",
   "metadata": {},
   "outputs": [],
   "source": [
    "train_loader = torch.utils.data.DataLoader(datasets.MNIST(root='.', train=True, transform=transforms.Compose([transforms.ToTensor()])), batch_size=64, shuffle=True)\n",
    "test_loader = torch.utils.data.DataLoader(datasets.MNIST(root='.', train=False, transform=transforms.Compose([transforms.ToTensor()])), batch_size=1, shuffle=True)"
   ]
  },
  {
   "cell_type": "code",
   "execution_count": 21,
   "id": "8a61748b",
   "metadata": {},
   "outputs": [],
   "source": [
    "def train():\n",
    "    learning_rate = 1e-3\n",
    "    num_epochs = 3    \n",
    "    net = Net()\n",
    "    optimizer = torch.optim.Adam(net.parameters(), lr=learning_rate)    \n",
    "    for epoch in range(num_epochs):\n",
    "        for batch_idx, (data,target) in enumerate(train_loader):\n",
    "            output = net(data)            \n",
    "            loss = F.nll_loss(output, target)\n",
    "            optimizer.zero_grad()\n",
    "            loss.backward()\n",
    "            optimizer.step()            \n",
    "            if batch_idx % 100 == 0:\n",
    "                print('Epoch = %f.Batch =%s. Loss = %s' % (epoch,batch_idx,loss.item()))\n",
    "    return net"
   ]
  },
  {
   "cell_type": "code",
   "execution_count": 22,
   "id": "ed35b4fd",
   "metadata": {
    "scrolled": true
   },
   "outputs": [
    {
     "name": "stdout",
     "output_type": "stream",
     "text": [
      "Epoch = 0.000000.Batch =0. Loss = 2.3557846546173096\n",
      "Epoch = 0.000000.Batch =100. Loss = 0.9296773672103882\n",
      "Epoch = 0.000000.Batch =200. Loss = 0.6569220423698425\n",
      "Epoch = 0.000000.Batch =300. Loss = 0.446041077375412\n",
      "Epoch = 0.000000.Batch =400. Loss = 0.40590208768844604\n",
      "Epoch = 0.000000.Batch =500. Loss = 0.4935562014579773\n",
      "Epoch = 0.000000.Batch =600. Loss = 0.29504624009132385\n",
      "Epoch = 0.000000.Batch =700. Loss = 0.4788224995136261\n",
      "Epoch = 0.000000.Batch =800. Loss = 0.435525506734848\n",
      "Epoch = 0.000000.Batch =900. Loss = 0.44431182742118835\n",
      "Epoch = 1.000000.Batch =0. Loss = 0.44433295726776123\n",
      "Epoch = 1.000000.Batch =100. Loss = 0.20485365390777588\n",
      "Epoch = 1.000000.Batch =200. Loss = 0.30171307921409607\n",
      "Epoch = 1.000000.Batch =300. Loss = 0.31147974729537964\n",
      "Epoch = 1.000000.Batch =400. Loss = 0.15059539675712585\n",
      "Epoch = 1.000000.Batch =500. Loss = 0.43408113718032837\n",
      "Epoch = 1.000000.Batch =600. Loss = 0.5050315856933594\n",
      "Epoch = 1.000000.Batch =700. Loss = 0.27513325214385986\n",
      "Epoch = 1.000000.Batch =800. Loss = 0.15609222650527954\n",
      "Epoch = 1.000000.Batch =900. Loss = 0.14597639441490173\n",
      "Epoch = 2.000000.Batch =0. Loss = 0.13167564570903778\n",
      "Epoch = 2.000000.Batch =100. Loss = 0.48388010263442993\n",
      "Epoch = 2.000000.Batch =200. Loss = 0.31269386410713196\n",
      "Epoch = 2.000000.Batch =300. Loss = 0.24977265298366547\n",
      "Epoch = 2.000000.Batch =400. Loss = 0.22560854256153107\n",
      "Epoch = 2.000000.Batch =500. Loss = 0.3298113942146301\n",
      "Epoch = 2.000000.Batch =600. Loss = 0.30003324151039124\n",
      "Epoch = 2.000000.Batch =700. Loss = 0.31197765469551086\n",
      "Epoch = 2.000000.Batch =800. Loss = 0.24137452244758606\n",
      "Epoch = 2.000000.Batch =900. Loss = 0.2337053120136261\n"
     ]
    }
   ],
   "source": [
    "net = train()"
   ]
  },
  {
   "cell_type": "code",
   "execution_count": 23,
   "id": "5871558f",
   "metadata": {},
   "outputs": [
    {
     "name": "stdout",
     "output_type": "stream",
     "text": [
      "Correct out of 10000 9211\n",
      "Percentage accuracy 92.11\n"
     ]
    }
   ],
   "source": [
    "net.eval()\n",
    "test_loss = 0\n",
    "correct = 0\n",
    "total = 0\n",
    "\n",
    "for data, target in test_loader:\n",
    "    total += len(target)\n",
    "    output = net(data)\n",
    "    pred = output.max(1, keepdim=True)[1]\n",
    "    correct += target.eq(pred.view_as(target)).sum()\n",
    "    \n",
    "print('Correct out of %s' % total, correct.item())\n",
    "print('Percentage accuracy', correct.item()*100/10000.)"
   ]
  },
  {
   "cell_type": "code",
   "execution_count": 24,
   "id": "fd0b433c",
   "metadata": {},
   "outputs": [],
   "source": [
    "#Liner Regression"
   ]
  },
  {
   "cell_type": "code",
   "execution_count": 25,
   "id": "1ecb8e2f",
   "metadata": {},
   "outputs": [],
   "source": [
    "#Import numpy and pandas\n",
    "import numpy as np\n",
    "import pandas as pd\n",
    "import seaborn as sns\n",
    "import matplotlib.pyplot as plt\n",
    "\n",
    "#Read the CSV file into a Dataframe: df\n",
    "df = pd.read_csv('D:/SEMESTER 2 - YEAR 4/Advanced Data Mining Applications/Lab/Data_Lab4/gapminder.csv')"
   ]
  },
  {
   "cell_type": "code",
   "execution_count": 26,
   "id": "3ca4e4af",
   "metadata": {},
   "outputs": [
    {
     "data": {
      "image/png": "[encoded data removed]",
      "text/plain": [
       "<Figure size 432x288 with 2 Axes>"
      ]
     },
     "metadata": {
      "needs_background": "light"
     },
     "output_type": "display_data"
    }
   ],
   "source": [
    "ax = sns.heatmap(df.corr(), square=True, cmap=plt.cm.RdYlGn)\n",
    "plt.show()"
   ]
  },
  {
   "cell_type": "code",
   "execution_count": 27,
   "id": "e729e7f7",
   "metadata": {},
   "outputs": [
    {
     "name": "stdout",
     "output_type": "stream",
     "text": [
      "0.6162438752151919\n"
     ]
    },
    {
     "data": {
      "image/png": "[encoded data removed]",
      "text/plain": [
       "<Figure size 432x288 with 1 Axes>"
      ]
     },
     "metadata": {
      "needs_background": "light"
     },
     "output_type": "display_data"
    }
   ],
   "source": [
    "from sklearn.linear_model import LinearRegression, LogisticRegression\n",
    "from sklearn.linear_model import LinearRegression\n",
    "from sklearn.metrics import mean_squared_error\n",
    "from sklearn.model_selection import train_test_split\n",
    "\n",
    "x_fertility = df['fertility'].values.reshape(-1,1)\n",
    "y_life = df['life'].values.reshape(-1,1)\n",
    "prediction_space = np.linspace(min(x_fertility), max(x_fertility)).reshape(-1,1)\n",
    "\n",
    "x_train, x_test, y_train, y_test = train_test_split(x_fertility, y_life, test_size=0.3, random_state=42)\n",
    "\n",
    "reg = LinearRegression()\n",
    "\n",
    "reg.fit(x_train, y_train)\n",
    "y_predict = reg.predict(prediction_space)\n",
    "\n",
    "print(reg.score(x_fertility, y_life))\n",
    "\n",
    "plt.scatter(x_fertility, y_life, color='pink')\n",
    "plt.plot(prediction_space, y_predict, color='red', linewidth=3)\n",
    "plt.ylabel('Life Expectancy')\n",
    "plt.xlabel('Fertility')\n",
    "plt.show()"
   ]
  },
  {
   "cell_type": "code",
   "execution_count": 28,
   "id": "ea0a5e96",
   "metadata": {},
   "outputs": [
    {
     "name": "stdout",
     "output_type": "stream",
     "text": [
      "0.8914651485793137\n"
     ]
    }
   ],
   "source": [
    "features = pd.read_csv('D:/SEMESTER 2 - YEAR 4/Advanced Data Mining Applications/Lab/Data_Lab4/gapminder.csv')\n",
    "df = pd.read_csv('D:/SEMESTER 2 - YEAR 4/Advanced Data Mining Applications/Lab/Data_Lab4/gapminder.csv')\n",
    "del features['life']\n",
    "del features['Region']\n",
    "\n",
    "y_life = df['life'].values.reshape(-1,1)\n",
    "\n",
    "x_train, x_test, y_train, y_test = train_test_split(features, y_life, test_size=0.3, random_state=42)\n",
    "\n",
    "reg_all =LinearRegression()\n",
    "\n",
    "reg_all.fit(x_train, y_train)\n",
    "\n",
    "print(reg_all.score(features, y_life))"
   ]
  },
  {
   "cell_type": "code",
   "execution_count": 29,
   "id": "1245dd10",
   "metadata": {},
   "outputs": [],
   "source": [
    "#Linear Regression using Pytorch"
   ]
  },
  {
   "cell_type": "code",
   "execution_count": 30,
   "id": "bc55a518",
   "metadata": {},
   "outputs": [],
   "source": [
    "import matplotlib.pyplot as plt\n",
    "%matplotlib inline\n",
    "import numpy as np"
   ]
  },
  {
   "cell_type": "code",
   "execution_count": 31,
   "id": "e1aa9c75",
   "metadata": {},
   "outputs": [
    {
     "data": {
      "image/png": "[encoded data removed]",
      "text/plain": [
       "<Figure size 432x288 with 1 Axes>"
      ]
     },
     "metadata": {
      "needs_background": "light"
     },
     "output_type": "display_data"
    }
   ],
   "source": [
    "N = 10 # number of data points\n",
    "m = .9\n",
    "c = 1\n",
    "x = np.linspace(0,2*np.pi,N)\n",
    "y = m*x + c + np.random.normal(0,.3,x.shape)\n",
    "plt.figure()\n",
    "plt.plot(x,y,'o')\n",
    "plt.xlabel('x')\n",
    "plt.ylabel('y')\n",
    "plt.title('2D data (#data = %d)' % N)\n",
    "plt.show()"
   ]
  },
  {
   "cell_type": "code",
   "execution_count": 32,
   "id": "583d1c37",
   "metadata": {},
   "outputs": [],
   "source": [
    "import torch"
   ]
  },
  {
   "cell_type": "code",
   "execution_count": 33,
   "id": "d4a2259c",
   "metadata": {},
   "outputs": [],
   "source": [
    "#Data set"
   ]
  },
  {
   "cell_type": "code",
   "execution_count": 34,
   "id": "b3d9e07e",
   "metadata": {},
   "outputs": [],
   "source": [
    "from torch.utils.data import Dataset\n",
    "class MyDataset(Dataset):\n",
    "    def __init__(self, x, y):\n",
    "        self.x=x\n",
    "        self.y=y\n",
    "        \n",
    "    def __len__(self):\n",
    "        return len(self.x)\n",
    "        \n",
    "    def __getitem__(self, idx):\n",
    "        sample = {\n",
    "            'feature': torch.tensor([1,self.x[idx]]),\n",
    "            'label': torch.tensor([self.y[idx]])\n",
    "        }\n",
    "        return sample\n"
   ]
  },
  {
   "cell_type": "code",
   "execution_count": 35,
   "id": "2037cbb7",
   "metadata": {},
   "outputs": [
    {
     "name": "stdout",
     "output_type": "stream",
     "text": [
      "0 tensor([1., 0.], dtype=torch.float64) tensor([0.8734], dtype=torch.float64)\n",
      "1 tensor([1.0000, 0.6981], dtype=torch.float64) tensor([1.5053], dtype=torch.float64)\n",
      "2 tensor([1.0000, 1.3963], dtype=torch.float64) tensor([2.2654], dtype=torch.float64)\n",
      "3 tensor([1.0000, 2.0944], dtype=torch.float64) tensor([3.3816], dtype=torch.float64)\n",
      "4 tensor([1.0000, 2.7925], dtype=torch.float64) tensor([3.2937], dtype=torch.float64)\n",
      "5 tensor([1.0000, 3.4907], dtype=torch.float64) tensor([4.5612], dtype=torch.float64)\n",
      "6 tensor([1.0000, 4.1888], dtype=torch.float64) tensor([4.7694], dtype=torch.float64)\n",
      "7 tensor([1.0000, 4.8869], dtype=torch.float64) tensor([5.2739], dtype=torch.float64)\n",
      "8 tensor([1.0000, 5.5851], dtype=torch.float64) tensor([5.9333], dtype=torch.float64)\n",
      "9 tensor([1.0000, 6.2832], dtype=torch.float64) tensor([6.8403], dtype=torch.float64)\n"
     ]
    }
   ],
   "source": [
    "dataset = MyDataset(x, y)\n",
    "for i in range(len(dataset)):\n",
    "    sample = dataset[i]\n",
    "    print(i, sample['feature'], sample['label'])\n"
   ]
  },
  {
   "cell_type": "code",
   "execution_count": 36,
   "id": "1ce2e5fa",
   "metadata": {},
   "outputs": [],
   "source": [
    "#Data Loader"
   ]
  },
  {
   "cell_type": "code",
   "execution_count": 37,
   "id": "3b77eecd",
   "metadata": {},
   "outputs": [],
   "source": [
    "from torch.utils.data import DataLoader\n",
    "\n",
    "dataset = MyDataset(x, y)\n",
    "batch_size = 4\n",
    "shuffle = True\n",
    "num_workers = 0\n",
    "dataloader = DataLoader(dataset, batch_size=batch_size, shuffle=shuffle, num_workers=num_workers)"
   ]
  },
  {
   "cell_type": "code",
   "execution_count": 38,
   "id": "7ae300d3",
   "metadata": {},
   "outputs": [
    {
     "name": "stdout",
     "output_type": "stream",
     "text": [
      "\n",
      "batch# = 0\n",
      "samples:\n",
      "{'feature': tensor([[1.0000, 2.7925],\n",
      "        [1.0000, 4.1888],\n",
      "        [1.0000, 0.0000],\n",
      "        [1.0000, 2.0944]], dtype=torch.float64),\n",
      " 'label': tensor([[3.2937],\n",
      "        [4.7694],\n",
      "        [0.8734],\n",
      "        [3.3816]], dtype=torch.float64)}\n",
      "\n",
      "batch# = 1\n",
      "samples:\n",
      "{'feature': tensor([[1.0000, 6.2832],\n",
      "        [1.0000, 5.5851],\n",
      "        [1.0000, 0.6981],\n",
      "        [1.0000, 4.8869]], dtype=torch.float64),\n",
      " 'label': tensor([[6.8403],\n",
      "        [5.9333],\n",
      "        [1.5053],\n",
      "        [5.2739]], dtype=torch.float64)}\n",
      "\n",
      "batch# = 2\n",
      "samples:\n",
      "{'feature': tensor([[1.0000, 1.3963],\n",
      "        [1.0000, 3.4907]], dtype=torch.float64),\n",
      " 'label': tensor([[2.2654],\n",
      "        [4.5612]], dtype=torch.float64)}\n"
     ]
    }
   ],
   "source": [
    "import pprint as pp\n",
    "for i_batch, samples in enumerate(dataloader):\n",
    "    print('\\nbatch# = %s' % i_batch)\n",
    "    print('samples:')\n",
    "    pp.pprint(samples)"
   ]
  },
  {
   "cell_type": "code",
   "execution_count": 39,
   "id": "fca6f1b5",
   "metadata": {},
   "outputs": [],
   "source": [
    "#Model"
   ]
  },
  {
   "cell_type": "code",
   "execution_count": 40,
   "id": "1f1a35ea",
   "metadata": {},
   "outputs": [],
   "source": [
    "import torch.nn as nn\n",
    "import torch.nn.functional as F\n",
    "class MyModel(nn.Module):\n",
    "    def __init__(self, input_dim, output_dim):\n",
    "        super(MyModel, self).__init__()\n",
    "        self.linear = nn.Linear(input_dim, output_dim)\n",
    "        \n",
    "    def forward(self, x):\n",
    "        out = self.linear(x)\n",
    "        return out"
   ]
  },
  {
   "cell_type": "code",
   "execution_count": 41,
   "id": "b6b91223",
   "metadata": {},
   "outputs": [],
   "source": [
    "#Setting a model for out problem"
   ]
  },
  {
   "cell_type": "code",
   "execution_count": 42,
   "id": "9950c3e1",
   "metadata": {},
   "outputs": [],
   "source": [
    "input_dim = 2\n",
    "output_dim = 1\n",
    "\n",
    "model = MyModel(input_dim, output_dim)"
   ]
  },
  {
   "cell_type": "code",
   "execution_count": 43,
   "id": "ddb08485",
   "metadata": {},
   "outputs": [],
   "source": [
    "#Cost function"
   ]
  },
  {
   "cell_type": "code",
   "execution_count": 44,
   "id": "604b5ad3",
   "metadata": {},
   "outputs": [],
   "source": [
    "cost = nn.MSELoss()"
   ]
  },
  {
   "cell_type": "code",
   "execution_count": 45,
   "id": "edffc860",
   "metadata": {},
   "outputs": [],
   "source": [
    "#Minimizing the cost function"
   ]
  },
  {
   "cell_type": "code",
   "execution_count": 46,
   "id": "395dc33e",
   "metadata": {
    "scrolled": true
   },
   "outputs": [
    {
     "name": "stdout",
     "output_type": "stream",
     "text": [
      "Epoch = 0\n",
      "\tBatch = 0, Error = 2.556344509124756\n",
      "\tBatch = 1, Error = 3.508997917175293\n",
      "\tBatch = 2, Error = 1.5906903743743896\n",
      "Epoch = 1\n",
      "\tBatch = 0, Error = 0.628192126750946\n",
      "\tBatch = 1, Error = 0.4101501405239105\n",
      "\tBatch = 2, Error = 0.04242906719446182\n",
      "Epoch = 2\n",
      "\tBatch = 0, Error = 0.2890893220901489\n",
      "\tBatch = 1, Error = 0.1764228343963623\n",
      "\tBatch = 2, Error = 0.1468101441860199\n",
      "Epoch = 3\n",
      "\tBatch = 0, Error = 0.23818939924240112\n",
      "\tBatch = 1, Error = 0.19224733114242554\n",
      "\tBatch = 2, Error = 0.08543210476636887\n",
      "Epoch = 4\n",
      "\tBatch = 0, Error = 0.14293189346790314\n",
      "\tBatch = 1, Error = 0.0923507809638977\n",
      "\tBatch = 2, Error = 0.47154557704925537\n",
      "Epoch = 5\n",
      "\tBatch = 0, Error = 0.1639818549156189\n",
      "\tBatch = 1, Error = 0.03933527320623398\n",
      "\tBatch = 2, Error = 0.4000396728515625\n",
      "Epoch = 6\n",
      "\tBatch = 0, Error = 0.11575808376073837\n",
      "\tBatch = 1, Error = 0.13233165442943573\n",
      "\tBatch = 2, Error = 0.2930182218551636\n",
      "Epoch = 7\n",
      "\tBatch = 0, Error = 0.1060759574174881\n",
      "\tBatch = 1, Error = 0.11897467821836472\n",
      "\tBatch = 2, Error = 0.2909705340862274\n",
      "Epoch = 8\n",
      "\tBatch = 0, Error = 0.10345331579446793\n",
      "\tBatch = 1, Error = 0.09374336153268814\n",
      "\tBatch = 2, Error = 0.3411034941673279\n",
      "Epoch = 9\n",
      "\tBatch = 0, Error = 0.15423795580863953\n",
      "\tBatch = 1, Error = 0.1416822075843811\n",
      "\tBatch = 2, Error = 0.09117557108402252\n"
     ]
    }
   ],
   "source": [
    "num_epochs = 10\n",
    "l_rate = 0.01\n",
    "optimiser = torch.optim.SGD(model.parameters(), lr = l_rate)\n",
    "\n",
    "dataset = MyDataset(x, y)\n",
    "batch_size = 4\n",
    "shuffle = True\n",
    "num_workers = 4\n",
    "training_sample_generator = DataLoader(dataset, batch_size=batch_size, shuffle=shuffle, num_workers=0)\n",
    "\n",
    "for epoch in range(num_epochs):\n",
    "    print('Epoch = %s' % epoch)\n",
    "    for batch_i, samples in enumerate(training_sample_generator):\n",
    "        predictions = model(samples['feature'].float())\n",
    "        error = cost(predictions, samples['label'].float())\n",
    "        print('\\tBatch = %s, Error = %s' % (batch_i, error.item()))    \n",
    "        optimiser.zero_grad()\n",
    "        \n",
    "        error.backward()\n",
    "        \n",
    "        optimiser.step()"
   ]
  },
  {
   "cell_type": "code",
   "execution_count": 47,
   "id": "9d3a2e3c",
   "metadata": {},
   "outputs": [],
   "source": [
    "#Lets see how well the model has learnt the data"
   ]
  },
  {
   "cell_type": "code",
   "execution_count": 48,
   "id": "f5c9bc30",
   "metadata": {},
   "outputs": [
    {
     "name": "stdout",
     "output_type": "stream",
     "text": [
      "Design matrix shape: torch.Size([1000, 2])\n",
      "y_for_plotting shape: torch.Size([1000, 1])\n"
     ]
    }
   ],
   "source": [
    "x_for_plotting = np.linspace(0, 2*np.pi, 1000)\n",
    "design_matrix = torch.tensor(np.vstack([np.ones(x_for_plotting.shape), x_for_plotting]).T, dtype=torch.float32)\n",
    "print('Design matrix shape:', design_matrix.shape)\n",
    "\n",
    "y_for_plotting = model.forward(design_matrix)\n",
    "print('y_for_plotting shape:', y_for_plotting.shape)"
   ]
  },
  {
   "cell_type": "code",
   "execution_count": 49,
   "id": "683b3a7e",
   "metadata": {},
   "outputs": [
    {
     "data": {
      "image/png": "[encoded data removed]",
      "text/plain": [
       "<Figure size 432x288 with 1 Axes>"
      ]
     },
     "metadata": {
      "needs_background": "light"
     },
     "output_type": "display_data"
    }
   ],
   "source": [
    "plt.figure()\n",
    "plt.plot(x,y,'o')\n",
    "plt.plot(x_for_plotting, y_for_plotting.data.numpy(), 'r-')\n",
    "plt.xlabel('x')\n",
    "plt.ylabel('y')\n",
    "plt.title('2D data (#data=%d)' % N)\n",
    "plt.show()"
   ]
  },
  {
   "cell_type": "code",
   "execution_count": 50,
   "id": "766965a9",
   "metadata": {},
   "outputs": [],
   "source": [
    "#Recommendation Systems"
   ]
  },
  {
   "cell_type": "code",
   "execution_count": 110,
   "id": "fde0b01f",
   "metadata": {},
   "outputs": [
    {
     "name": "stdout",
     "output_type": "stream",
     "text": [
      "(4, 4)\n",
      "[3.  2.5 2.  2. ]\n"
     ]
    },
    {
     "data": {
      "text/html": [
       "<div>\n",
       "<style scoped>\n",
       "    .dataframe tbody tr th:only-of-type {\n",
       "        vertical-align: middle;\n",
       "    }\n",
       "\n",
       "    .dataframe tbody tr th {\n",
       "        vertical-align: top;\n",
       "    }\n",
       "\n",
       "    .dataframe thead th {\n",
       "        text-align: right;\n",
       "    }\n",
       "</style>\n",
       "<table border=\"1\" class=\"dataframe\">\n",
       "  <thead>\n",
       "    <tr style=\"text-align: right;\">\n",
       "      <th></th>\n",
       "      <th>0</th>\n",
       "      <th>1</th>\n",
       "      <th>2</th>\n",
       "      <th>3</th>\n",
       "    </tr>\n",
       "  </thead>\n",
       "  <tbody>\n",
       "    <tr>\n",
       "      <th>0</th>\n",
       "      <td>4.0</td>\n",
       "      <td>3.0</td>\n",
       "      <td>2.0</td>\n",
       "      <td>3.0</td>\n",
       "    </tr>\n",
       "    <tr>\n",
       "      <th>1</th>\n",
       "      <td>1.0</td>\n",
       "      <td>2.0</td>\n",
       "      <td>3.0</td>\n",
       "      <td>1.0</td>\n",
       "    </tr>\n",
       "    <tr>\n",
       "      <th>2</th>\n",
       "      <td>NaN</td>\n",
       "      <td>2.0</td>\n",
       "      <td>1.0</td>\n",
       "      <td>NaN</td>\n",
       "    </tr>\n",
       "    <tr>\n",
       "      <th>3</th>\n",
       "      <td>4.0</td>\n",
       "      <td>3.0</td>\n",
       "      <td>NaN</td>\n",
       "      <td>NaN</td>\n",
       "    </tr>\n",
       "  </tbody>\n",
       "</table>\n",
       "</div>"
      ],
      "text/plain": [
       "     0    1    2    3\n",
       "0  4.0  3.0  2.0  3.0\n",
       "1  1.0  2.0  3.0  1.0\n",
       "2  NaN  2.0  1.0  NaN\n",
       "3  4.0  3.0  NaN  NaN"
      ]
     },
     "execution_count": 110,
     "metadata": {},
     "output_type": "execute_result"
    }
   ],
   "source": [
    "M_result = np.asarray([[4,3,2,3], \n",
    " [1,2,3,1],\n",
    " [1,2,1,2],\n",
    " [4,3,2,4]])\n",
    "pd.DataFrame(M_result)\n",
    "M = np.asarray([[4,3,2,3], \n",
    " [1,2,3,1],\n",
    " [np.nan,2,1,np.nan],\n",
    " [4,3,np.nan,np.nan],\n",
    "# [1,1,1,1],\n",
    " ])\n",
    "print(M.shape)\n",
    "print(np.nanmean(M, axis=0))\n",
    "pd.DataFrame(M)"
   ]
  },
  {
   "cell_type": "code",
   "execution_count": 103,
   "id": "3e40ed54",
   "metadata": {},
   "outputs": [],
   "source": [
    "import math\n",
    "def cosine_similarity(v1,v2,metric = 'cosine'):\n",
    "    if metric == 'correlation':\n",
    "        v1 = v1 - np.nanmean(v1)\n",
    "        v2 = v2 - np.nanmean(v2)\n",
    "    sumxx,sumxy,sumyy =0,0,0\n",
    "    for i in range(len(v1)):\n",
    "        x = v1[i]; y = v2[i]\n",
    "        if np.isnan(x) or np.isnan(y):continue\n",
    "        sumxx += x*x\n",
    "        sumyy += y*y\n",
    "        sumxy += x*y\n",
    "    return sumxy / math.sqrt(sumxx*sumyy)\n",
    "\n",
    "def sim_matrix(M,dimension = 'user',metric = 'cosine'):\n",
    "    N = M.shape[0] if dimension == 'user' else M.shape[1]\n",
    "    sim = np.zeros([N,N])\n",
    "    for i in range(N):\n",
    "        for j in range(N):\n",
    "            if i==j:\n",
    "                sim[i,j] = 0\n",
    "                continue\n",
    "            if dimension == 'user':\n",
    "                v1,v2 = M[i,:],M[j,:]\n",
    "            else:\n",
    "                v1,v2 = M[:,i],M[:,j]\n",
    "            sim[i][j] = cosine_similarity(v1,v2,metric)\n",
    "    return sim               \n",
    "            "
   ]
  },
  {
   "cell_type": "code",
   "execution_count": 104,
   "id": "b093e713",
   "metadata": {},
   "outputs": [],
   "source": [
    "def user_cf(M, metric='cosine'):\n",
    "    pred = np.copy(M)\n",
    "    n_users, n_items = M.shape\n",
    "    avg_ratings = np.nanmean(M, axis=1)\n",
    "    sim_users = sim_matrix(M, 'user', metric)\n",
    "    for i in range(n_users):\n",
    "        for j in range(n_items):\n",
    "            if np.isnan(M[i,j]):\n",
    "                pred[i,j] = avg_ratings[i] + np.nansum(sim_users[i] * (M[:,j] - avg_ratings)) / sum(sim_users[i])\n",
    "    return pred\n",
    "\n",
    "            "
   ]
  },
  {
   "cell_type": "code",
   "execution_count": 105,
   "id": "ee543866",
   "metadata": {},
   "outputs": [],
   "source": [
    "def item_cf(M, metric='cosine'):\n",
    "    pred = np.copy(M)\n",
    "    n_users, n_items = M.shape\n",
    "    avg_ratings = np.nanmean(M, axis=0)\n",
    "    sim_items = sim_matrix(M, 'item', metric)\n",
    "    for i in range(n_users):\n",
    "        for j in range(n_items):\n",
    "            if np.isnan(M[i,j]):\n",
    "                pred[i,j] = avg_ratings[j] + np.nansum(sim_items[j] * (M[i,j] - avg_ratings)) / sum(sim_items[j])\n",
    "    return pred"
   ]
  },
  {
   "cell_type": "code",
   "execution_count": 106,
   "id": "5953859f",
   "metadata": {},
   "outputs": [],
   "source": [
    "def evaluateRS(ratings, groundtruth, method='user_cf', metric='cosine'):\n",
    " if method == 'user_cf':\n",
    "     prediction = user_cf(ratings, metric)\n",
    " else:\n",
    "     prediction = item_cf(ratings, metric)\n",
    "     MSE = mean_squared_error(prediction, groundtruth)\n",
    "     RMSE = round(math.sqrt(MSE),3)\n",
    "     print(\"RMSE using {0} approach ({2}) is: {1}\".format(method, RMSE, metric))\n",
    "     print(pd.DataFrame(prediction))\n",
    "     return"
   ]
  },
  {
   "cell_type": "code",
   "execution_count": 107,
   "id": "7a2ca428",
   "metadata": {},
   "outputs": [
    {
     "name": "stdout",
     "output_type": "stream",
     "text": [
      "RMSE using item_cf approach (cosine) is: 0.707\n",
      "     0    1    2    3\n",
      "0  4.0  3.0  2.0  3.0\n",
      "1  1.0  2.0  3.0  1.0\n",
      "2  3.0  2.0  1.0  2.0\n",
      "3  4.0  3.0  2.0  2.0\n",
      "RMSE using item_cf approach (correlation) is: 0.707\n",
      "     0    1    2    3\n",
      "0  4.0  3.0  2.0  3.0\n",
      "1  1.0  2.0  3.0  1.0\n",
      "2  3.0  2.0  1.0  2.0\n",
      "3  4.0  3.0  2.0  2.0\n"
     ]
    }
   ],
   "source": [
    "evaluateRS(M, M_result, 'user_cf', 'cosine')\n",
    "evaluateRS(M, M_result, 'user_cf', 'correlation')\n",
    "evaluateRS(M, M_result, 'item_cf', 'cosine')\n",
    "evaluateRS(M, M_result, 'item_cf', 'correlation')"
   ]
  },
  {
   "cell_type": "code",
   "execution_count": 108,
   "id": "8318b755",
   "metadata": {},
   "outputs": [],
   "source": [
    "def evaluate_rank(ratings, groundtruth, method='user_cf', metric='cosine'):\n",
    "    if method == 'user_cf':\n",
    "        prediction = user_cf(ratings, metric)\n",
    "    else:\n",
    "        prediction = item_cf(ratings, metric)\n",
    "    n_users = ratings.shape\n",
    "    avg_tau = 0\n",
    "    for i in range(n_users):\n",
    "        tau, p_value = stats.kendalltau(M_result[i,:], prediction[i,:])\n",
    "        avg_tau += tau\n",
    "    avg_tau = avg_tau / n_users\n",
    "    clear_output(wait=True)\n",
    "    return avg_tau"
   ]
  },
  {
   "cell_type": "code",
   "execution_count": 109,
   "id": "e77327cd",
   "metadata": {},
   "outputs": [
    {
     "ename": "TypeError",
     "evalue": "'tuple' object cannot be interpreted as an integer",
     "output_type": "error",
     "traceback": [
      "\u001b[1;31m---------------------------------------------------------------------------\u001b[0m",
      "\u001b[1;31mTypeError\u001b[0m                                 Traceback (most recent call last)",
      "\u001b[1;32m~\\AppData\\Local\\Temp/ipykernel_7244/4114536693.py\u001b[0m in \u001b[0;36m<module>\u001b[1;34m\u001b[0m\n\u001b[0;32m      2\u001b[0m \u001b[1;32mfor\u001b[0m \u001b[0mmethod\u001b[0m \u001b[1;32min\u001b[0m \u001b[1;33m[\u001b[0m\u001b[1;34m'user_cf'\u001b[0m\u001b[1;33m,\u001b[0m \u001b[1;34m'item_cf'\u001b[0m\u001b[1;33m]\u001b[0m\u001b[1;33m:\u001b[0m\u001b[1;33m\u001b[0m\u001b[1;33m\u001b[0m\u001b[0m\n\u001b[0;32m      3\u001b[0m     \u001b[1;32mfor\u001b[0m \u001b[0mmetric\u001b[0m \u001b[1;32min\u001b[0m \u001b[1;33m[\u001b[0m\u001b[1;34m'cosine'\u001b[0m\u001b[1;33m,\u001b[0m \u001b[1;34m'correlation'\u001b[0m\u001b[1;33m]\u001b[0m\u001b[1;33m:\u001b[0m\u001b[1;33m\u001b[0m\u001b[1;33m\u001b[0m\u001b[0m\n\u001b[1;32m----> 4\u001b[1;33m         \u001b[0mrank_acc\u001b[0m \u001b[1;33m=\u001b[0m \u001b[0mevaluate_rank\u001b[0m\u001b[1;33m(\u001b[0m\u001b[0mM\u001b[0m\u001b[1;33m,\u001b[0m \u001b[0mM_result\u001b[0m\u001b[1;33m,\u001b[0m \u001b[0mmethod\u001b[0m\u001b[1;33m,\u001b[0m \u001b[0mmetric\u001b[0m\u001b[1;33m)\u001b[0m\u001b[1;33m\u001b[0m\u001b[1;33m\u001b[0m\u001b[0m\n\u001b[0m\u001b[0;32m      5\u001b[0m         \u001b[0mresults\u001b[0m \u001b[1;33m+=\u001b[0m \u001b[1;33m[\u001b[0m\u001b[1;34m\"Rank accuracy of {0} with {1} metric: {2}\"\u001b[0m\u001b[1;33m.\u001b[0m\u001b[0mformat\u001b[0m\u001b[1;33m(\u001b[0m\u001b[0mmethod\u001b[0m\u001b[1;33m[\u001b[0m\u001b[1;36m1\u001b[0m\u001b[1;33m]\u001b[0m\u001b[1;33m,\u001b[0m \u001b[0mmetric\u001b[0m\u001b[1;33m,\u001b[0m \u001b[0mrank_acc\u001b[0m\u001b[1;33m)\u001b[0m\u001b[1;33m]\u001b[0m\u001b[1;33m\u001b[0m\u001b[1;33m\u001b[0m\u001b[0m\n\u001b[0;32m      6\u001b[0m \u001b[0mprint\u001b[0m\u001b[1;33m(\u001b[0m\u001b[1;34m\"\\n\"\u001b[0m\u001b[1;33m.\u001b[0m\u001b[0mjoin\u001b[0m\u001b[1;33m(\u001b[0m\u001b[0mresults\u001b[0m\u001b[1;33m)\u001b[0m\u001b[1;33m)\u001b[0m\u001b[1;33m\u001b[0m\u001b[1;33m\u001b[0m\u001b[0m\n",
      "\u001b[1;32m~\\AppData\\Local\\Temp/ipykernel_7244/1863801916.py\u001b[0m in \u001b[0;36mevaluate_rank\u001b[1;34m(ratings, groundtruth, method, metric)\u001b[0m\n\u001b[0;32m      6\u001b[0m     \u001b[0mn_users\u001b[0m \u001b[1;33m=\u001b[0m \u001b[0mratings\u001b[0m\u001b[1;33m.\u001b[0m\u001b[0mshape\u001b[0m\u001b[1;33m\u001b[0m\u001b[1;33m\u001b[0m\u001b[0m\n\u001b[0;32m      7\u001b[0m     \u001b[0mavg_tau\u001b[0m \u001b[1;33m=\u001b[0m \u001b[1;36m0\u001b[0m\u001b[1;33m\u001b[0m\u001b[1;33m\u001b[0m\u001b[0m\n\u001b[1;32m----> 8\u001b[1;33m     \u001b[1;32mfor\u001b[0m \u001b[0mi\u001b[0m \u001b[1;32min\u001b[0m \u001b[0mrange\u001b[0m\u001b[1;33m(\u001b[0m\u001b[0mn_users\u001b[0m\u001b[1;33m)\u001b[0m\u001b[1;33m:\u001b[0m\u001b[1;33m\u001b[0m\u001b[1;33m\u001b[0m\u001b[0m\n\u001b[0m\u001b[0;32m      9\u001b[0m         \u001b[0mtau\u001b[0m\u001b[1;33m,\u001b[0m \u001b[0mp_value\u001b[0m \u001b[1;33m=\u001b[0m \u001b[0mstats\u001b[0m\u001b[1;33m.\u001b[0m\u001b[0mkendalltau\u001b[0m\u001b[1;33m(\u001b[0m\u001b[0mM_result\u001b[0m\u001b[1;33m[\u001b[0m\u001b[0mi\u001b[0m\u001b[1;33m,\u001b[0m\u001b[1;33m:\u001b[0m\u001b[1;33m]\u001b[0m\u001b[1;33m,\u001b[0m \u001b[0mprediction\u001b[0m\u001b[1;33m[\u001b[0m\u001b[0mi\u001b[0m\u001b[1;33m,\u001b[0m\u001b[1;33m:\u001b[0m\u001b[1;33m]\u001b[0m\u001b[1;33m)\u001b[0m\u001b[1;33m\u001b[0m\u001b[1;33m\u001b[0m\u001b[0m\n\u001b[0;32m     10\u001b[0m         \u001b[0mavg_tau\u001b[0m \u001b[1;33m+=\u001b[0m \u001b[0mtau\u001b[0m\u001b[1;33m\u001b[0m\u001b[1;33m\u001b[0m\u001b[0m\n",
      "\u001b[1;31mTypeError\u001b[0m: 'tuple' object cannot be interpreted as an integer"
     ]
    }
   ],
   "source": [
    "result = []\n",
    "for method in ['user_cf', 'item_cf']:\n",
    "    for metric in ['cosine', 'correlation']:\n",
    "        rank_acc = evaluate_rank(M, M_result, method, metric)\n",
    "        results += [\"Rank accuracy of {0} with {1} metric: {2}\".format(method[1], metric, rank_acc)]\n",
    "print(\"\\n\".join(results))"
   ]
  },
  {
   "cell_type": "code",
   "execution_count": 58,
   "id": "65eef376",
   "metadata": {},
   "outputs": [],
   "source": [
    "# Exercise 1: Classification\n",
    "#In this part, you will be working with the Iris dataset (https://en.wikipedia.org/wiki/Iris_flower_data_set).  \n",
    "\n",
    " \n",
    "#     •Compare the accuracy of the classifier in the plot. \n",
    "#     •Classify using deep learning with CNN (1 plus) \n"
   ]
  },
  {
   "cell_type": "code",
   "execution_count": null,
   "id": "69a29c05",
   "metadata": {},
   "outputs": [],
   "source": [
    "#Load this dataset from scikit-learn  "
   ]
  },
  {
   "cell_type": "code",
   "execution_count": 59,
   "id": "0eb34cda",
   "metadata": {},
   "outputs": [
    {
     "data": {
      "text/plain": [
       "array([[5.1, 3.5, 1.4, 0.2],\n",
       "       [4.9, 3. , 1.4, 0.2],\n",
       "       [4.7, 3.2, 1.3, 0.2],\n",
       "       [4.6, 3.1, 1.5, 0.2],\n",
       "       [5. , 3.6, 1.4, 0.2],\n",
       "       [5.4, 3.9, 1.7, 0.4],\n",
       "       [4.6, 3.4, 1.4, 0.3],\n",
       "       [5. , 3.4, 1.5, 0.2],\n",
       "       [4.4, 2.9, 1.4, 0.2],\n",
       "       [4.9, 3.1, 1.5, 0.1],\n",
       "       [5.4, 3.7, 1.5, 0.2],\n",
       "       [4.8, 3.4, 1.6, 0.2],\n",
       "       [4.8, 3. , 1.4, 0.1],\n",
       "       [4.3, 3. , 1.1, 0.1],\n",
       "       [5.8, 4. , 1.2, 0.2],\n",
       "       [5.7, 4.4, 1.5, 0.4],\n",
       "       [5.4, 3.9, 1.3, 0.4],\n",
       "       [5.1, 3.5, 1.4, 0.3],\n",
       "       [5.7, 3.8, 1.7, 0.3],\n",
       "       [5.1, 3.8, 1.5, 0.3],\n",
       "       [5.4, 3.4, 1.7, 0.2],\n",
       "       [5.1, 3.7, 1.5, 0.4],\n",
       "       [4.6, 3.6, 1. , 0.2],\n",
       "       [5.1, 3.3, 1.7, 0.5],\n",
       "       [4.8, 3.4, 1.9, 0.2],\n",
       "       [5. , 3. , 1.6, 0.2],\n",
       "       [5. , 3.4, 1.6, 0.4],\n",
       "       [5.2, 3.5, 1.5, 0.2],\n",
       "       [5.2, 3.4, 1.4, 0.2],\n",
       "       [4.7, 3.2, 1.6, 0.2],\n",
       "       [4.8, 3.1, 1.6, 0.2],\n",
       "       [5.4, 3.4, 1.5, 0.4],\n",
       "       [5.2, 4.1, 1.5, 0.1],\n",
       "       [5.5, 4.2, 1.4, 0.2],\n",
       "       [4.9, 3.1, 1.5, 0.2],\n",
       "       [5. , 3.2, 1.2, 0.2],\n",
       "       [5.5, 3.5, 1.3, 0.2],\n",
       "       [4.9, 3.6, 1.4, 0.1],\n",
       "       [4.4, 3. , 1.3, 0.2],\n",
       "       [5.1, 3.4, 1.5, 0.2],\n",
       "       [5. , 3.5, 1.3, 0.3],\n",
       "       [4.5, 2.3, 1.3, 0.3],\n",
       "       [4.4, 3.2, 1.3, 0.2],\n",
       "       [5. , 3.5, 1.6, 0.6],\n",
       "       [5.1, 3.8, 1.9, 0.4],\n",
       "       [4.8, 3. , 1.4, 0.3],\n",
       "       [5.1, 3.8, 1.6, 0.2],\n",
       "       [4.6, 3.2, 1.4, 0.2],\n",
       "       [5.3, 3.7, 1.5, 0.2],\n",
       "       [5. , 3.3, 1.4, 0.2],\n",
       "       [7. , 3.2, 4.7, 1.4],\n",
       "       [6.4, 3.2, 4.5, 1.5],\n",
       "       [6.9, 3.1, 4.9, 1.5],\n",
       "       [5.5, 2.3, 4. , 1.3],\n",
       "       [6.5, 2.8, 4.6, 1.5],\n",
       "       [5.7, 2.8, 4.5, 1.3],\n",
       "       [6.3, 3.3, 4.7, 1.6],\n",
       "       [4.9, 2.4, 3.3, 1. ],\n",
       "       [6.6, 2.9, 4.6, 1.3],\n",
       "       [5.2, 2.7, 3.9, 1.4],\n",
       "       [5. , 2. , 3.5, 1. ],\n",
       "       [5.9, 3. , 4.2, 1.5],\n",
       "       [6. , 2.2, 4. , 1. ],\n",
       "       [6.1, 2.9, 4.7, 1.4],\n",
       "       [5.6, 2.9, 3.6, 1.3],\n",
       "       [6.7, 3.1, 4.4, 1.4],\n",
       "       [5.6, 3. , 4.5, 1.5],\n",
       "       [5.8, 2.7, 4.1, 1. ],\n",
       "       [6.2, 2.2, 4.5, 1.5],\n",
       "       [5.6, 2.5, 3.9, 1.1],\n",
       "       [5.9, 3.2, 4.8, 1.8],\n",
       "       [6.1, 2.8, 4. , 1.3],\n",
       "       [6.3, 2.5, 4.9, 1.5],\n",
       "       [6.1, 2.8, 4.7, 1.2],\n",
       "       [6.4, 2.9, 4.3, 1.3],\n",
       "       [6.6, 3. , 4.4, 1.4],\n",
       "       [6.8, 2.8, 4.8, 1.4],\n",
       "       [6.7, 3. , 5. , 1.7],\n",
       "       [6. , 2.9, 4.5, 1.5],\n",
       "       [5.7, 2.6, 3.5, 1. ],\n",
       "       [5.5, 2.4, 3.8, 1.1],\n",
       "       [5.5, 2.4, 3.7, 1. ],\n",
       "       [5.8, 2.7, 3.9, 1.2],\n",
       "       [6. , 2.7, 5.1, 1.6],\n",
       "       [5.4, 3. , 4.5, 1.5],\n",
       "       [6. , 3.4, 4.5, 1.6],\n",
       "       [6.7, 3.1, 4.7, 1.5],\n",
       "       [6.3, 2.3, 4.4, 1.3],\n",
       "       [5.6, 3. , 4.1, 1.3],\n",
       "       [5.5, 2.5, 4. , 1.3],\n",
       "       [5.5, 2.6, 4.4, 1.2],\n",
       "       [6.1, 3. , 4.6, 1.4],\n",
       "       [5.8, 2.6, 4. , 1.2],\n",
       "       [5. , 2.3, 3.3, 1. ],\n",
       "       [5.6, 2.7, 4.2, 1.3],\n",
       "       [5.7, 3. , 4.2, 1.2],\n",
       "       [5.7, 2.9, 4.2, 1.3],\n",
       "       [6.2, 2.9, 4.3, 1.3],\n",
       "       [5.1, 2.5, 3. , 1.1],\n",
       "       [5.7, 2.8, 4.1, 1.3],\n",
       "       [6.3, 3.3, 6. , 2.5],\n",
       "       [5.8, 2.7, 5.1, 1.9],\n",
       "       [7.1, 3. , 5.9, 2.1],\n",
       "       [6.3, 2.9, 5.6, 1.8],\n",
       "       [6.5, 3. , 5.8, 2.2],\n",
       "       [7.6, 3. , 6.6, 2.1],\n",
       "       [4.9, 2.5, 4.5, 1.7],\n",
       "       [7.3, 2.9, 6.3, 1.8],\n",
       "       [6.7, 2.5, 5.8, 1.8],\n",
       "       [7.2, 3.6, 6.1, 2.5],\n",
       "       [6.5, 3.2, 5.1, 2. ],\n",
       "       [6.4, 2.7, 5.3, 1.9],\n",
       "       [6.8, 3. , 5.5, 2.1],\n",
       "       [5.7, 2.5, 5. , 2. ],\n",
       "       [5.8, 2.8, 5.1, 2.4],\n",
       "       [6.4, 3.2, 5.3, 2.3],\n",
       "       [6.5, 3. , 5.5, 1.8],\n",
       "       [7.7, 3.8, 6.7, 2.2],\n",
       "       [7.7, 2.6, 6.9, 2.3],\n",
       "       [6. , 2.2, 5. , 1.5],\n",
       "       [6.9, 3.2, 5.7, 2.3],\n",
       "       [5.6, 2.8, 4.9, 2. ],\n",
       "       [7.7, 2.8, 6.7, 2. ],\n",
       "       [6.3, 2.7, 4.9, 1.8],\n",
       "       [6.7, 3.3, 5.7, 2.1],\n",
       "       [7.2, 3.2, 6. , 1.8],\n",
       "       [6.2, 2.8, 4.8, 1.8],\n",
       "       [6.1, 3. , 4.9, 1.8],\n",
       "       [6.4, 2.8, 5.6, 2.1],\n",
       "       [7.2, 3. , 5.8, 1.6],\n",
       "       [7.4, 2.8, 6.1, 1.9],\n",
       "       [7.9, 3.8, 6.4, 2. ],\n",
       "       [6.4, 2.8, 5.6, 2.2],\n",
       "       [6.3, 2.8, 5.1, 1.5],\n",
       "       [6.1, 2.6, 5.6, 1.4],\n",
       "       [7.7, 3. , 6.1, 2.3],\n",
       "       [6.3, 3.4, 5.6, 2.4],\n",
       "       [6.4, 3.1, 5.5, 1.8],\n",
       "       [6. , 3. , 4.8, 1.8],\n",
       "       [6.9, 3.1, 5.4, 2.1],\n",
       "       [6.7, 3.1, 5.6, 2.4],\n",
       "       [6.9, 3.1, 5.1, 2.3],\n",
       "       [5.8, 2.7, 5.1, 1.9],\n",
       "       [6.8, 3.2, 5.9, 2.3],\n",
       "       [6.7, 3.3, 5.7, 2.5],\n",
       "       [6.7, 3. , 5.2, 2.3],\n",
       "       [6.3, 2.5, 5. , 1.9],\n",
       "       [6.5, 3. , 5.2, 2. ],\n",
       "       [6.2, 3.4, 5.4, 2.3],\n",
       "       [5.9, 3. , 5.1, 1.8]])"
      ]
     },
     "execution_count": 59,
     "metadata": {},
     "output_type": "execute_result"
    }
   ],
   "source": [
    "from sklearn.datasets import load_iris\n",
    "import pandas as pd\n",
    "import numpy as np\n",
    "import matplotlib.pyplot as plt\n",
    "import seaborn as sns\n",
    "iris = load_iris()\n",
    "iris['data']"
   ]
  },
  {
   "cell_type": "code",
   "execution_count": 62,
   "id": "b19dbcc0",
   "metadata": {},
   "outputs": [
    {
     "data": {
      "text/html": [
       "<div>\n",
       "<style scoped>\n",
       "    .dataframe tbody tr th:only-of-type {\n",
       "        vertical-align: middle;\n",
       "    }\n",
       "\n",
       "    .dataframe tbody tr th {\n",
       "        vertical-align: top;\n",
       "    }\n",
       "\n",
       "    .dataframe thead th {\n",
       "        text-align: right;\n",
       "    }\n",
       "</style>\n",
       "<table border=\"1\" class=\"dataframe\">\n",
       "  <thead>\n",
       "    <tr style=\"text-align: right;\">\n",
       "      <th></th>\n",
       "      <th>Sepal length</th>\n",
       "      <th>Sepal width</th>\n",
       "      <th>Petal length</th>\n",
       "      <th>Petal width</th>\n",
       "    </tr>\n",
       "  </thead>\n",
       "  <tbody>\n",
       "    <tr>\n",
       "      <th>0</th>\n",
       "      <td>5.1</td>\n",
       "      <td>3.5</td>\n",
       "      <td>1.4</td>\n",
       "      <td>0.2</td>\n",
       "    </tr>\n",
       "    <tr>\n",
       "      <th>1</th>\n",
       "      <td>4.9</td>\n",
       "      <td>3.0</td>\n",
       "      <td>1.4</td>\n",
       "      <td>0.2</td>\n",
       "    </tr>\n",
       "    <tr>\n",
       "      <th>2</th>\n",
       "      <td>4.7</td>\n",
       "      <td>3.2</td>\n",
       "      <td>1.3</td>\n",
       "      <td>0.2</td>\n",
       "    </tr>\n",
       "    <tr>\n",
       "      <th>3</th>\n",
       "      <td>4.6</td>\n",
       "      <td>3.1</td>\n",
       "      <td>1.5</td>\n",
       "      <td>0.2</td>\n",
       "    </tr>\n",
       "    <tr>\n",
       "      <th>4</th>\n",
       "      <td>5.0</td>\n",
       "      <td>3.6</td>\n",
       "      <td>1.4</td>\n",
       "      <td>0.2</td>\n",
       "    </tr>\n",
       "    <tr>\n",
       "      <th>...</th>\n",
       "      <td>...</td>\n",
       "      <td>...</td>\n",
       "      <td>...</td>\n",
       "      <td>...</td>\n",
       "    </tr>\n",
       "    <tr>\n",
       "      <th>145</th>\n",
       "      <td>6.7</td>\n",
       "      <td>3.0</td>\n",
       "      <td>5.2</td>\n",
       "      <td>2.3</td>\n",
       "    </tr>\n",
       "    <tr>\n",
       "      <th>146</th>\n",
       "      <td>6.3</td>\n",
       "      <td>2.5</td>\n",
       "      <td>5.0</td>\n",
       "      <td>1.9</td>\n",
       "    </tr>\n",
       "    <tr>\n",
       "      <th>147</th>\n",
       "      <td>6.5</td>\n",
       "      <td>3.0</td>\n",
       "      <td>5.2</td>\n",
       "      <td>2.0</td>\n",
       "    </tr>\n",
       "    <tr>\n",
       "      <th>148</th>\n",
       "      <td>6.2</td>\n",
       "      <td>3.4</td>\n",
       "      <td>5.4</td>\n",
       "      <td>2.3</td>\n",
       "    </tr>\n",
       "    <tr>\n",
       "      <th>149</th>\n",
       "      <td>5.9</td>\n",
       "      <td>3.0</td>\n",
       "      <td>5.1</td>\n",
       "      <td>1.8</td>\n",
       "    </tr>\n",
       "  </tbody>\n",
       "</table>\n",
       "<p>150 rows × 4 columns</p>\n",
       "</div>"
      ],
      "text/plain": [
       "     Sepal length  Sepal width  Petal length  Petal width\n",
       "0             5.1          3.5           1.4          0.2\n",
       "1             4.9          3.0           1.4          0.2\n",
       "2             4.7          3.2           1.3          0.2\n",
       "3             4.6          3.1           1.5          0.2\n",
       "4             5.0          3.6           1.4          0.2\n",
       "..            ...          ...           ...          ...\n",
       "145           6.7          3.0           5.2          2.3\n",
       "146           6.3          2.5           5.0          1.9\n",
       "147           6.5          3.0           5.2          2.0\n",
       "148           6.2          3.4           5.4          2.3\n",
       "149           5.9          3.0           5.1          1.8\n",
       "\n",
       "[150 rows x 4 columns]"
      ]
     },
     "execution_count": 62,
     "metadata": {},
     "output_type": "execute_result"
    }
   ],
   "source": [
    "data = iris['data']\n",
    "df = pd.DataFrame(data=data, columns=[\"Sepal length\", \"Sepal width\",\"Petal length\",\"Petal width\"])\n",
    "df"
   ]
  },
  {
   "cell_type": "code",
   "execution_count": 63,
   "id": "d9e633e2",
   "metadata": {},
   "outputs": [
    {
     "data": {
      "text/html": [
       "<div>\n",
       "<style scoped>\n",
       "    .dataframe tbody tr th:only-of-type {\n",
       "        vertical-align: middle;\n",
       "    }\n",
       "\n",
       "    .dataframe tbody tr th {\n",
       "        vertical-align: top;\n",
       "    }\n",
       "\n",
       "    .dataframe thead th {\n",
       "        text-align: right;\n",
       "    }\n",
       "</style>\n",
       "<table border=\"1\" class=\"dataframe\">\n",
       "  <thead>\n",
       "    <tr style=\"text-align: right;\">\n",
       "      <th></th>\n",
       "      <th>Sepal length</th>\n",
       "      <th>Sepal width</th>\n",
       "      <th>Petal length</th>\n",
       "      <th>Petal width</th>\n",
       "      <th>class</th>\n",
       "    </tr>\n",
       "  </thead>\n",
       "  <tbody>\n",
       "    <tr>\n",
       "      <th>0</th>\n",
       "      <td>5.1</td>\n",
       "      <td>3.5</td>\n",
       "      <td>1.4</td>\n",
       "      <td>0.2</td>\n",
       "      <td>0</td>\n",
       "    </tr>\n",
       "    <tr>\n",
       "      <th>1</th>\n",
       "      <td>4.9</td>\n",
       "      <td>3.0</td>\n",
       "      <td>1.4</td>\n",
       "      <td>0.2</td>\n",
       "      <td>0</td>\n",
       "    </tr>\n",
       "    <tr>\n",
       "      <th>2</th>\n",
       "      <td>4.7</td>\n",
       "      <td>3.2</td>\n",
       "      <td>1.3</td>\n",
       "      <td>0.2</td>\n",
       "      <td>0</td>\n",
       "    </tr>\n",
       "    <tr>\n",
       "      <th>3</th>\n",
       "      <td>4.6</td>\n",
       "      <td>3.1</td>\n",
       "      <td>1.5</td>\n",
       "      <td>0.2</td>\n",
       "      <td>0</td>\n",
       "    </tr>\n",
       "    <tr>\n",
       "      <th>4</th>\n",
       "      <td>5.0</td>\n",
       "      <td>3.6</td>\n",
       "      <td>1.4</td>\n",
       "      <td>0.2</td>\n",
       "      <td>0</td>\n",
       "    </tr>\n",
       "    <tr>\n",
       "      <th>...</th>\n",
       "      <td>...</td>\n",
       "      <td>...</td>\n",
       "      <td>...</td>\n",
       "      <td>...</td>\n",
       "      <td>...</td>\n",
       "    </tr>\n",
       "    <tr>\n",
       "      <th>145</th>\n",
       "      <td>6.7</td>\n",
       "      <td>3.0</td>\n",
       "      <td>5.2</td>\n",
       "      <td>2.3</td>\n",
       "      <td>2</td>\n",
       "    </tr>\n",
       "    <tr>\n",
       "      <th>146</th>\n",
       "      <td>6.3</td>\n",
       "      <td>2.5</td>\n",
       "      <td>5.0</td>\n",
       "      <td>1.9</td>\n",
       "      <td>2</td>\n",
       "    </tr>\n",
       "    <tr>\n",
       "      <th>147</th>\n",
       "      <td>6.5</td>\n",
       "      <td>3.0</td>\n",
       "      <td>5.2</td>\n",
       "      <td>2.0</td>\n",
       "      <td>2</td>\n",
       "    </tr>\n",
       "    <tr>\n",
       "      <th>148</th>\n",
       "      <td>6.2</td>\n",
       "      <td>3.4</td>\n",
       "      <td>5.4</td>\n",
       "      <td>2.3</td>\n",
       "      <td>2</td>\n",
       "    </tr>\n",
       "    <tr>\n",
       "      <th>149</th>\n",
       "      <td>5.9</td>\n",
       "      <td>3.0</td>\n",
       "      <td>5.1</td>\n",
       "      <td>1.8</td>\n",
       "      <td>2</td>\n",
       "    </tr>\n",
       "  </tbody>\n",
       "</table>\n",
       "<p>150 rows × 5 columns</p>\n",
       "</div>"
      ],
      "text/plain": [
       "     Sepal length  Sepal width  Petal length  Petal width  class\n",
       "0             5.1          3.5           1.4          0.2      0\n",
       "1             4.9          3.0           1.4          0.2      0\n",
       "2             4.7          3.2           1.3          0.2      0\n",
       "3             4.6          3.1           1.5          0.2      0\n",
       "4             5.0          3.6           1.4          0.2      0\n",
       "..            ...          ...           ...          ...    ...\n",
       "145           6.7          3.0           5.2          2.3      2\n",
       "146           6.3          2.5           5.0          1.9      2\n",
       "147           6.5          3.0           5.2          2.0      2\n",
       "148           6.2          3.4           5.4          2.3      2\n",
       "149           5.9          3.0           5.1          1.8      2\n",
       "\n",
       "[150 rows x 5 columns]"
      ]
     },
     "execution_count": 63,
     "metadata": {},
     "output_type": "execute_result"
    }
   ],
   "source": [
    "iris_class = iris.target.reshape(-1,1)\n",
    "df['class']= iris_class\n",
    "df"
   ]
  },
  {
   "cell_type": "code",
   "execution_count": 60,
   "id": "93804b4c",
   "metadata": {},
   "outputs": [],
   "source": [
    "#Classify using kNN with different k and simple neural network as described in Classification section."
   ]
  },
  {
   "cell_type": "code",
   "execution_count": 64,
   "id": "a9acf24d",
   "metadata": {},
   "outputs": [
    {
     "data": {
      "text/plain": [
       "<seaborn.axisgrid.PairGrid at 0x1a971dc0880>"
      ]
     },
     "execution_count": 64,
     "metadata": {},
     "output_type": "execute_result"
    },
    {
     "data": {
      "image/png": "[encoded data removed]",
      "text/plain": [
       "<Figure size 762.375x720 with 20 Axes>"
      ]
     },
     "metadata": {
      "needs_background": "light"
     },
     "output_type": "display_data"
    }
   ],
   "source": [
    "sns.pairplot(df,hue='class',diag_kind=\"hist\")"
   ]
  },
  {
   "cell_type": "code",
   "execution_count": 65,
   "id": "57d24b23",
   "metadata": {},
   "outputs": [
    {
     "data": {
      "text/plain": [
       "<matplotlib.collections.PathCollection at 0x1a9734706d0>"
      ]
     },
     "execution_count": 65,
     "metadata": {},
     "output_type": "execute_result"
    },
    {
     "data": {
      "image/png": "[encoded data removed]",
      "text/plain": [
       "<Figure size 1000x600 with 1 Axes>"
      ]
     },
     "metadata": {
      "needs_background": "light"
     },
     "output_type": "display_data"
    }
   ],
   "source": [
    "from matplotlib.pyplot import figure\n",
    "\n",
    "figure(figsize=(10, 6), dpi=100)\n",
    "plt.scatter(df[\"Sepal length\"],df['Sepal width'],c=iris.target)"
   ]
  },
  {
   "cell_type": "code",
   "execution_count": 68,
   "id": "00a452c6",
   "metadata": {},
   "outputs": [],
   "source": [
    "from sklearn.model_selection import train_test_split\n",
    "from sklearn.neighbors import KNeighborsClassifier\n",
    "X_train,X_test,y_train,y_test = train_test_split(df,iris.target,test_size=0.3,random_state=0,stratify=iris.target)"
   ]
  },
  {
   "cell_type": "code",
   "execution_count": 69,
   "id": "04fd1538",
   "metadata": {},
   "outputs": [
    {
     "data": {
      "image/png": "[encoded data removed]",
      "text/plain": [
       "<Figure size 1000x600 with 1 Axes>"
      ]
     },
     "metadata": {
      "needs_background": "light"
     },
     "output_type": "display_data"
    }
   ],
   "source": [
    "neighbors= np.arange(1,9)\n",
    "train_accuracy = np.empty(len(neighbors))\n",
    "test_accuracy = np.empty(len(neighbors))\n",
    "\n",
    "for i , k in enumerate(neighbors):\n",
    "    knn = KNeighborsClassifier(n_neighbors=k)\n",
    "    knn.fit(X_train,y_train)\n",
    "    train_accuracy[i] = knn.score(X_train,y_train)\n",
    "    test_accuracy[i] = knn.score(X_test,y_test)\n",
    "figure(figsize=(10, 6), dpi=100)\n",
    "plt.title(\"k-NN: Varying Number of Neighbors\")\n",
    "plt.plot(neighbors, test_accuracy,label ='Testing Accuracy')\n",
    "plt.plot(neighbors, train_accuracy,label = \"Training Accuracy\")\n",
    "plt.legend()\n",
    "plt.xlabel('Number of Neighbors')\n",
    "plt.ylabel(\"Accuracy\")\n",
    "plt.show()"
   ]
  },
  {
   "cell_type": "code",
   "execution_count": 113,
   "id": "70e76fbe",
   "metadata": {},
   "outputs": [],
   "source": [
    "#Recommendation System:"
   ]
  },
  {
   "cell_type": "code",
   "execution_count": null,
   "id": "ac6a0637",
   "metadata": {},
   "outputs": [],
   "source": [
    "movies_df = pd.read_csv('movies.csv',encoding='latin-1')\n",
    "ratings_df = pd.read_csv('ratings.csv')\n",
    "users_df = pd.read_csv('users.csv')"
   ]
  },
  {
   "cell_type": "code",
   "execution_count": 114,
   "id": "18844701",
   "metadata": {},
   "outputs": [
    {
     "data": {
      "text/html": [
       "<div>\n",
       "<style scoped>\n",
       "    .dataframe tbody tr th:only-of-type {\n",
       "        vertical-align: middle;\n",
       "    }\n",
       "\n",
       "    .dataframe tbody tr th {\n",
       "        vertical-align: top;\n",
       "    }\n",
       "\n",
       "    .dataframe thead th {\n",
       "        text-align: right;\n",
       "    }\n",
       "</style>\n",
       "<table border=\"1\" class=\"dataframe\">\n",
       "  <thead>\n",
       "    <tr style=\"text-align: right;\">\n",
       "      <th></th>\n",
       "      <th>movie_id</th>\n",
       "      <th>title</th>\n",
       "      <th>genres</th>\n",
       "    </tr>\n",
       "  </thead>\n",
       "  <tbody>\n",
       "    <tr>\n",
       "      <th>0</th>\n",
       "      <td>1</td>\n",
       "      <td>Toy Story (1995)</td>\n",
       "      <td>Animation|Children's|Comedy</td>\n",
       "    </tr>\n",
       "    <tr>\n",
       "      <th>1</th>\n",
       "      <td>2</td>\n",
       "      <td>Jumanji (1995)</td>\n",
       "      <td>Adventure|Children's|Fantasy</td>\n",
       "    </tr>\n",
       "    <tr>\n",
       "      <th>2</th>\n",
       "      <td>3</td>\n",
       "      <td>Grumpier Old Men (1995)</td>\n",
       "      <td>Comedy|Romance</td>\n",
       "    </tr>\n",
       "    <tr>\n",
       "      <th>3</th>\n",
       "      <td>4</td>\n",
       "      <td>Waiting to Exhale (1995)</td>\n",
       "      <td>Comedy|Drama</td>\n",
       "    </tr>\n",
       "    <tr>\n",
       "      <th>4</th>\n",
       "      <td>5</td>\n",
       "      <td>Father of the Bride Part II (1995)</td>\n",
       "      <td>Comedy</td>\n",
       "    </tr>\n",
       "    <tr>\n",
       "      <th>...</th>\n",
       "      <td>...</td>\n",
       "      <td>...</td>\n",
       "      <td>...</td>\n",
       "    </tr>\n",
       "    <tr>\n",
       "      <th>94</th>\n",
       "      <td>95</td>\n",
       "      <td>Broken Arrow (1996)</td>\n",
       "      <td>Action|Thriller</td>\n",
       "    </tr>\n",
       "    <tr>\n",
       "      <th>95</th>\n",
       "      <td>96</td>\n",
       "      <td>In the Bleak Midwinter (1995)</td>\n",
       "      <td>Comedy</td>\n",
       "    </tr>\n",
       "    <tr>\n",
       "      <th>97</th>\n",
       "      <td>98</td>\n",
       "      <td>Shopping (1994)</td>\n",
       "      <td>Action|Thriller</td>\n",
       "    </tr>\n",
       "    <tr>\n",
       "      <th>98</th>\n",
       "      <td>99</td>\n",
       "      <td>Heidi Fleiss: Hollywood Madam (1995)</td>\n",
       "      <td>Documentary</td>\n",
       "    </tr>\n",
       "    <tr>\n",
       "      <th>99</th>\n",
       "      <td>100</td>\n",
       "      <td>City Hall (1996)</td>\n",
       "      <td>Drama|Thriller</td>\n",
       "    </tr>\n",
       "  </tbody>\n",
       "</table>\n",
       "<p>85 rows × 3 columns</p>\n",
       "</div>"
      ],
      "text/plain": [
       "    movie_id                                 title  \\\n",
       "0          1                      Toy Story (1995)   \n",
       "1          2                        Jumanji (1995)   \n",
       "2          3               Grumpier Old Men (1995)   \n",
       "3          4              Waiting to Exhale (1995)   \n",
       "4          5    Father of the Bride Part II (1995)   \n",
       "..       ...                                   ...   \n",
       "94        95                   Broken Arrow (1996)   \n",
       "95        96         In the Bleak Midwinter (1995)   \n",
       "97        98                       Shopping (1994)   \n",
       "98        99  Heidi Fleiss: Hollywood Madam (1995)   \n",
       "99       100                      City Hall (1996)   \n",
       "\n",
       "                          genres  \n",
       "0    Animation|Children's|Comedy  \n",
       "1   Adventure|Children's|Fantasy  \n",
       "2                 Comedy|Romance  \n",
       "3                   Comedy|Drama  \n",
       "4                         Comedy  \n",
       "..                           ...  \n",
       "94               Action|Thriller  \n",
       "95                        Comedy  \n",
       "97               Action|Thriller  \n",
       "98                   Documentary  \n",
       "99                Drama|Thriller  \n",
       "\n",
       "[85 rows x 3 columns]"
      ]
     },
     "execution_count": 114,
     "metadata": {},
     "output_type": "execute_result"
    }
   ],
   "source": [
    "movies_df.dropna()"
   ]
  },
  {
   "cell_type": "code",
   "execution_count": 115,
   "id": "840fee53",
   "metadata": {},
   "outputs": [],
   "source": [
    "movies_df = movies_df.dropna(axis=0)\n",
    "users_df = users_df.dropna(axis=0)\n",
    "ratings_df = ratings_df.dropna(axis=0)"
   ]
  },
  {
   "cell_type": "code",
   "execution_count": 117,
   "id": "ba40921c",
   "metadata": {},
   "outputs": [
    {
     "data": {
      "text/html": [
       "<div>\n",
       "<style scoped>\n",
       "    .dataframe tbody tr th:only-of-type {\n",
       "        vertical-align: middle;\n",
       "    }\n",
       "\n",
       "    .dataframe tbody tr th {\n",
       "        vertical-align: top;\n",
       "    }\n",
       "\n",
       "    .dataframe thead th {\n",
       "        text-align: right;\n",
       "    }\n",
       "</style>\n",
       "<table border=\"1\" class=\"dataframe\">\n",
       "  <thead>\n",
       "    <tr style=\"text-align: right;\">\n",
       "      <th></th>\n",
       "      <th>user_id</th>\n",
       "      <th>movie_id</th>\n",
       "      <th>rating</th>\n",
       "    </tr>\n",
       "  </thead>\n",
       "  <tbody>\n",
       "    <tr>\n",
       "      <th>0</th>\n",
       "      <td>1</td>\n",
       "      <td>1</td>\n",
       "      <td>3</td>\n",
       "    </tr>\n",
       "    <tr>\n",
       "      <th>1</th>\n",
       "      <td>1</td>\n",
       "      <td>3</td>\n",
       "      <td>5</td>\n",
       "    </tr>\n",
       "    <tr>\n",
       "      <th>2</th>\n",
       "      <td>1</td>\n",
       "      <td>4</td>\n",
       "      <td>4</td>\n",
       "    </tr>\n",
       "    <tr>\n",
       "      <th>3</th>\n",
       "      <td>1</td>\n",
       "      <td>5</td>\n",
       "      <td>3</td>\n",
       "    </tr>\n",
       "    <tr>\n",
       "      <th>4</th>\n",
       "      <td>1</td>\n",
       "      <td>6</td>\n",
       "      <td>3</td>\n",
       "    </tr>\n",
       "    <tr>\n",
       "      <th>...</th>\n",
       "      <td>...</td>\n",
       "      <td>...</td>\n",
       "      <td>...</td>\n",
       "    </tr>\n",
       "    <tr>\n",
       "      <th>7507</th>\n",
       "      <td>100</td>\n",
       "      <td>96</td>\n",
       "      <td>4</td>\n",
       "    </tr>\n",
       "    <tr>\n",
       "      <th>7508</th>\n",
       "      <td>100</td>\n",
       "      <td>97</td>\n",
       "      <td>4</td>\n",
       "    </tr>\n",
       "    <tr>\n",
       "      <th>7509</th>\n",
       "      <td>100</td>\n",
       "      <td>98</td>\n",
       "      <td>5</td>\n",
       "    </tr>\n",
       "    <tr>\n",
       "      <th>7510</th>\n",
       "      <td>100</td>\n",
       "      <td>99</td>\n",
       "      <td>5</td>\n",
       "    </tr>\n",
       "    <tr>\n",
       "      <th>7511</th>\n",
       "      <td>100</td>\n",
       "      <td>100</td>\n",
       "      <td>5</td>\n",
       "    </tr>\n",
       "  </tbody>\n",
       "</table>\n",
       "<p>7512 rows × 3 columns</p>\n",
       "</div>"
      ],
      "text/plain": [
       "      user_id  movie_id  rating\n",
       "0           1         1       3\n",
       "1           1         3       5\n",
       "2           1         4       4\n",
       "3           1         5       3\n",
       "4           1         6       3\n",
       "...       ...       ...     ...\n",
       "7507      100        96       4\n",
       "7508      100        97       4\n",
       "7509      100        98       5\n",
       "7510      100        99       5\n",
       "7511      100       100       5\n",
       "\n",
       "[7512 rows x 3 columns]"
      ]
     },
     "execution_count": 117,
     "metadata": {},
     "output_type": "execute_result"
    }
   ],
   "source": [
    "ratings_df"
   ]
  },
  {
   "cell_type": "code",
   "execution_count": 116,
   "id": "91f6142c",
   "metadata": {},
   "outputs": [
    {
     "data": {
      "text/plain": [
       "movie_id    0\n",
       "title       0\n",
       "genres      0\n",
       "dtype: int64"
      ]
     },
     "execution_count": 116,
     "metadata": {},
     "output_type": "execute_result"
    }
   ],
   "source": [
    "movies_df.isnull().sum()"
   ]
  },
  {
   "cell_type": "code",
   "execution_count": 131,
   "id": "9918558b",
   "metadata": {},
   "outputs": [],
   "source": [
    "#Vectorize the relationship between movies and genres  and put them into Ij. "
   ]
  },
  {
   "cell_type": "code",
   "execution_count": 118,
   "id": "78c0c569",
   "metadata": {},
   "outputs": [],
   "source": [
    "def find_genres(x,listGen):\n",
    "    arr = x.split(\"|\")\n",
    "    for i in arr:\n",
    "        isIn= False\n",
    "        for j in listGen:\n",
    "            if(j ==i):\n",
    "                isIn=True\n",
    "        if(isIn==False):\n",
    "            listGen.append(i)\n",
    "    "
   ]
  },
  {
   "cell_type": "code",
   "execution_count": 119,
   "id": "4b8bfcfb",
   "metadata": {},
   "outputs": [],
   "source": [
    "def relaBetweenMovAndGen(x):\n",
    "    temp = []\n",
    "    for i in listGen:\n",
    "        if i in x:\n",
    "            temp.append(1)\n",
    "        else:\n",
    "            temp.append(0)\n",
    "    Ij.append(temp)\n"
   ]
  },
  {
   "cell_type": "code",
   "execution_count": 120,
   "id": "db6f689e",
   "metadata": {},
   "outputs": [],
   "source": [
    "#a.Content-Based Recommendation Model "
   ]
  },
  {
   "cell_type": "code",
   "execution_count": 121,
   "id": "9e9b2713",
   "metadata": {},
   "outputs": [
    {
     "data": {
      "text/plain": [
       "['Animation',\n",
       " \"Children's\",\n",
       " 'Comedy',\n",
       " 'Adventure',\n",
       " 'Fantasy',\n",
       " 'Romance',\n",
       " 'Drama',\n",
       " 'Action',\n",
       " 'Crime',\n",
       " 'Thriller',\n",
       " 'Horror',\n",
       " 'Sci-Fi',\n",
       " 'Documentary',\n",
       " 'War',\n",
       " 'Musical']"
      ]
     },
     "execution_count": 121,
     "metadata": {},
     "output_type": "execute_result"
    }
   ],
   "source": [
    "listGen = []\n",
    "movies_df['genres'].apply(find_genres,listGen=listGen)\n",
    "listGen"
   ]
  },
  {
   "cell_type": "code",
   "execution_count": 122,
   "id": "383a5de3",
   "metadata": {},
   "outputs": [
    {
     "data": {
      "text/plain": [
       "[[1, 1, 1, 0, 0, 0, 0, 0, 0, 0, 0, 0, 0, 0, 0],\n",
       " [0, 1, 0, 1, 1, 0, 0, 0, 0, 0, 0, 0, 0, 0, 0],\n",
       " [0, 0, 1, 0, 0, 1, 0, 0, 0, 0, 0, 0, 0, 0, 0],\n",
       " [0, 0, 1, 0, 0, 0, 1, 0, 0, 0, 0, 0, 0, 0, 0]]"
      ]
     },
     "execution_count": 122,
     "metadata": {},
     "output_type": "execute_result"
    }
   ],
   "source": [
    "Ij=[]\n",
    "movies_df['genres'].apply(relaBetweenMovAndGen)\n",
    "Ij[:4]"
   ]
  },
  {
   "cell_type": "code",
   "execution_count": 123,
   "id": "aa3262ef",
   "metadata": {},
   "outputs": [
    {
     "data": {
      "text/html": [
       "<div>\n",
       "<style scoped>\n",
       "    .dataframe tbody tr th:only-of-type {\n",
       "        vertical-align: middle;\n",
       "    }\n",
       "\n",
       "    .dataframe tbody tr th {\n",
       "        vertical-align: top;\n",
       "    }\n",
       "\n",
       "    .dataframe thead th {\n",
       "        text-align: right;\n",
       "    }\n",
       "</style>\n",
       "<table border=\"1\" class=\"dataframe\">\n",
       "  <thead>\n",
       "    <tr style=\"text-align: right;\">\n",
       "      <th></th>\n",
       "      <th>user_id</th>\n",
       "      <th>gender</th>\n",
       "      <th>age</th>\n",
       "      <th>occupation</th>\n",
       "      <th>zipcode</th>\n",
       "      <th>age_desc</th>\n",
       "      <th>occ_desc</th>\n",
       "    </tr>\n",
       "  </thead>\n",
       "  <tbody>\n",
       "    <tr>\n",
       "      <th>0</th>\n",
       "      <td>1</td>\n",
       "      <td>F</td>\n",
       "      <td>1</td>\n",
       "      <td>10</td>\n",
       "      <td>48067</td>\n",
       "      <td>Under 18</td>\n",
       "      <td>K-12 student</td>\n",
       "    </tr>\n",
       "    <tr>\n",
       "      <th>1</th>\n",
       "      <td>2</td>\n",
       "      <td>M</td>\n",
       "      <td>56</td>\n",
       "      <td>16</td>\n",
       "      <td>70072</td>\n",
       "      <td>56+</td>\n",
       "      <td>self-employed</td>\n",
       "    </tr>\n",
       "    <tr>\n",
       "      <th>2</th>\n",
       "      <td>3</td>\n",
       "      <td>M</td>\n",
       "      <td>25</td>\n",
       "      <td>15</td>\n",
       "      <td>55117</td>\n",
       "      <td>25-34</td>\n",
       "      <td>scientist</td>\n",
       "    </tr>\n",
       "    <tr>\n",
       "      <th>3</th>\n",
       "      <td>4</td>\n",
       "      <td>M</td>\n",
       "      <td>45</td>\n",
       "      <td>7</td>\n",
       "      <td>2460</td>\n",
       "      <td>45-49</td>\n",
       "      <td>executive/managerial</td>\n",
       "    </tr>\n",
       "    <tr>\n",
       "      <th>4</th>\n",
       "      <td>5</td>\n",
       "      <td>M</td>\n",
       "      <td>25</td>\n",
       "      <td>20</td>\n",
       "      <td>55455</td>\n",
       "      <td>25-34</td>\n",
       "      <td>writer</td>\n",
       "    </tr>\n",
       "    <tr>\n",
       "      <th>...</th>\n",
       "      <td>...</td>\n",
       "      <td>...</td>\n",
       "      <td>...</td>\n",
       "      <td>...</td>\n",
       "      <td>...</td>\n",
       "      <td>...</td>\n",
       "      <td>...</td>\n",
       "    </tr>\n",
       "    <tr>\n",
       "      <th>95</th>\n",
       "      <td>96</td>\n",
       "      <td>F</td>\n",
       "      <td>25</td>\n",
       "      <td>16</td>\n",
       "      <td>78028</td>\n",
       "      <td>25-34</td>\n",
       "      <td>self-employed</td>\n",
       "    </tr>\n",
       "    <tr>\n",
       "      <th>96</th>\n",
       "      <td>97</td>\n",
       "      <td>F</td>\n",
       "      <td>35</td>\n",
       "      <td>3</td>\n",
       "      <td>66210</td>\n",
       "      <td>35-44</td>\n",
       "      <td>clerical/admin</td>\n",
       "    </tr>\n",
       "    <tr>\n",
       "      <th>97</th>\n",
       "      <td>98</td>\n",
       "      <td>F</td>\n",
       "      <td>35</td>\n",
       "      <td>7</td>\n",
       "      <td>33547</td>\n",
       "      <td>35-44</td>\n",
       "      <td>executive/managerial</td>\n",
       "    </tr>\n",
       "    <tr>\n",
       "      <th>98</th>\n",
       "      <td>99</td>\n",
       "      <td>F</td>\n",
       "      <td>1</td>\n",
       "      <td>10</td>\n",
       "      <td>19390</td>\n",
       "      <td>Under 18</td>\n",
       "      <td>K-12 student</td>\n",
       "    </tr>\n",
       "    <tr>\n",
       "      <th>99</th>\n",
       "      <td>100</td>\n",
       "      <td>M</td>\n",
       "      <td>35</td>\n",
       "      <td>17</td>\n",
       "      <td>95401</td>\n",
       "      <td>35-44</td>\n",
       "      <td>technician/engineer</td>\n",
       "    </tr>\n",
       "  </tbody>\n",
       "</table>\n",
       "<p>100 rows × 7 columns</p>\n",
       "</div>"
      ],
      "text/plain": [
       "    user_id gender  age  occupation  zipcode  age_desc              occ_desc\n",
       "0         1      F    1          10    48067  Under 18          K-12 student\n",
       "1         2      M   56          16    70072       56+         self-employed\n",
       "2         3      M   25          15    55117     25-34             scientist\n",
       "3         4      M   45           7     2460     45-49  executive/managerial\n",
       "4         5      M   25          20    55455     25-34                writer\n",
       "..      ...    ...  ...         ...      ...       ...                   ...\n",
       "95       96      F   25          16    78028     25-34         self-employed\n",
       "96       97      F   35           3    66210     35-44        clerical/admin\n",
       "97       98      F   35           7    33547     35-44  executive/managerial\n",
       "98       99      F    1          10    19390  Under 18          K-12 student\n",
       "99      100      M   35          17    95401     35-44   technician/engineer\n",
       "\n",
       "[100 rows x 7 columns]"
      ]
     },
     "execution_count": 123,
     "metadata": {},
     "output_type": "execute_result"
    }
   ],
   "source": [
    "users_df"
   ]
  },
  {
   "cell_type": "code",
   "execution_count": 130,
   "id": "af65f569",
   "metadata": {},
   "outputs": [],
   "source": [
    "#❖\tVectorize the relationship between users and genres and put them into Uj (if user rate for a movie, he/she has the related history with the movies’genres). "
   ]
  },
  {
   "cell_type": "code",
   "execution_count": 124,
   "id": "a6249989",
   "metadata": {},
   "outputs": [],
   "source": [
    "def finduserGen(movies_id,users_genres):\n",
    "    movies_arr = movies_id.split('|')\n",
    "    movies_arr = [eval(x) for x in movies_arr]\n",
    "    user_genres=[]\n",
    "    for i in movies_arr:\n",
    "        a = movies_df.loc[movies_df['movie_id'] == i]\n",
    "        if(a.empty):\n",
    "            continue\n",
    "        else:\n",
    "            genres = a.values[0,2].split('|')\n",
    "            for k in genres:\n",
    "                isIn= False\n",
    "                for l in user_genres:\n",
    "                    if(k ==l):\n",
    "                        isIn=True\n",
    "                if(isIn==False):\n",
    "                    user_genres.append(k)\n",
    "    users_genres.append(user_genres)"
   ]
  },
  {
   "cell_type": "code",
   "execution_count": 125,
   "id": "d0ee8d52",
   "metadata": {},
   "outputs": [
    {
     "data": {
      "text/html": [
       "<div>\n",
       "<style scoped>\n",
       "    .dataframe tbody tr th:only-of-type {\n",
       "        vertical-align: middle;\n",
       "    }\n",
       "\n",
       "    .dataframe tbody tr th {\n",
       "        vertical-align: top;\n",
       "    }\n",
       "\n",
       "    .dataframe thead th {\n",
       "        text-align: right;\n",
       "    }\n",
       "</style>\n",
       "<table border=\"1\" class=\"dataframe\">\n",
       "  <thead>\n",
       "    <tr style=\"text-align: right;\">\n",
       "      <th></th>\n",
       "      <th>user_id</th>\n",
       "      <th>movie_id</th>\n",
       "    </tr>\n",
       "  </thead>\n",
       "  <tbody>\n",
       "    <tr>\n",
       "      <th>0</th>\n",
       "      <td>1</td>\n",
       "      <td>42|31|32|34|35|36|37|39|45|43|44|28|46|47|48|4...</td>\n",
       "    </tr>\n",
       "    <tr>\n",
       "      <th>1</th>\n",
       "      <td>2</td>\n",
       "      <td>37|28|29|30|31|35|36|45|40|41|25|49|50|51|52|5...</td>\n",
       "    </tr>\n",
       "    <tr>\n",
       "      <th>2</th>\n",
       "      <td>3</td>\n",
       "      <td>30|39|31|32|33|34|35|36|38|46|40|41|42|43|44|4...</td>\n",
       "    </tr>\n",
       "    <tr>\n",
       "      <th>3</th>\n",
       "      <td>4</td>\n",
       "      <td>46|32|34|35|37|39|40|43|44|49|47|48|29|50|1|52...</td>\n",
       "    </tr>\n",
       "    <tr>\n",
       "      <th>4</th>\n",
       "      <td>5</td>\n",
       "      <td>40|28|29|33|34|35|36|39|44|41|43|45|46|47|48|2...</td>\n",
       "    </tr>\n",
       "    <tr>\n",
       "      <th>...</th>\n",
       "      <td>...</td>\n",
       "      <td>...</td>\n",
       "    </tr>\n",
       "    <tr>\n",
       "      <th>95</th>\n",
       "      <td>96</td>\n",
       "      <td>26|28|29|30|31|34|36|41|38|39|40|43|44|46|24|4...</td>\n",
       "    </tr>\n",
       "    <tr>\n",
       "      <th>96</th>\n",
       "      <td>97</td>\n",
       "      <td>41|28|32|33|34|35|36|39|40|44|42|43|26|45|46|4...</td>\n",
       "    </tr>\n",
       "    <tr>\n",
       "      <th>97</th>\n",
       "      <td>98</td>\n",
       "      <td>36|27|28|30|31|33|34|35|40|37|39|23|41|43|44|4...</td>\n",
       "    </tr>\n",
       "    <tr>\n",
       "      <th>98</th>\n",
       "      <td>99</td>\n",
       "      <td>43|33|35|36|37|38|39|41|52|44|45|48|49|50|51|3...</td>\n",
       "    </tr>\n",
       "    <tr>\n",
       "      <th>99</th>\n",
       "      <td>100</td>\n",
       "      <td>100|38|30|31|32|34|35|36|40|27|41|43|44|45|46|...</td>\n",
       "    </tr>\n",
       "  </tbody>\n",
       "</table>\n",
       "<p>100 rows × 2 columns</p>\n",
       "</div>"
      ],
      "text/plain": [
       "    user_id                                           movie_id\n",
       "0         1  42|31|32|34|35|36|37|39|45|43|44|28|46|47|48|4...\n",
       "1         2  37|28|29|30|31|35|36|45|40|41|25|49|50|51|52|5...\n",
       "2         3  30|39|31|32|33|34|35|36|38|46|40|41|42|43|44|4...\n",
       "3         4  46|32|34|35|37|39|40|43|44|49|47|48|29|50|1|52...\n",
       "4         5  40|28|29|33|34|35|36|39|44|41|43|45|46|47|48|2...\n",
       "..      ...                                                ...\n",
       "95       96  26|28|29|30|31|34|36|41|38|39|40|43|44|46|24|4...\n",
       "96       97  41|28|32|33|34|35|36|39|40|44|42|43|26|45|46|4...\n",
       "97       98  36|27|28|30|31|33|34|35|40|37|39|23|41|43|44|4...\n",
       "98       99  43|33|35|36|37|38|39|41|52|44|45|48|49|50|51|3...\n",
       "99      100  100|38|30|31|32|34|35|36|40|27|41|43|44|45|46|...\n",
       "\n",
       "[100 rows x 2 columns]"
      ]
     },
     "execution_count": 125,
     "metadata": {},
     "output_type": "execute_result"
    }
   ],
   "source": [
    "ratings_df['movie_id']=ratings_df['movie_id'].astype(str)\n",
    "\n",
    "new_ratings = ratings_df.sort_values(['user_id'],ascending=False).groupby(['user_id'], as_index=False).agg({'movie_id': '|'.join})\n",
    "new_ratings"
   ]
  },
  {
   "cell_type": "code",
   "execution_count": 126,
   "id": "786c4a7f",
   "metadata": {},
   "outputs": [],
   "source": [
    "def relaBetweenUsrAndGen(users_genres,listGen):\n",
    "    usrRelaGens=[]\n",
    "    for i in users_genres:\n",
    "        temp=[]\n",
    "        a = ' '.join(map(str, i))\n",
    "        for j in listGen:\n",
    "            if(j in a):\n",
    "                temp.append(1)\n",
    "            else:\n",
    "                temp.append(0)\n",
    "        usrRelaGens.append(temp)\n",
    "    return usrRelaGens"
   ]
  },
  {
   "cell_type": "code",
   "execution_count": 127,
   "id": "e25154ed",
   "metadata": {},
   "outputs": [
    {
     "data": {
      "text/plain": [
       "[[1, 1, 1, 1, 1, 1, 1, 1, 1, 1, 1, 1, 1, 0, 1],\n",
       " [1, 1, 1, 1, 1, 1, 1, 1, 1, 1, 1, 1, 1, 1, 0],\n",
       " [1, 1, 1, 1, 1, 1, 1, 1, 1, 1, 1, 1, 1, 1, 1],\n",
       " [1, 1, 1, 1, 1, 1, 1, 1, 1, 1, 1, 1, 1, 0, 1]]"
      ]
     },
     "execution_count": 127,
     "metadata": {},
     "output_type": "execute_result"
    }
   ],
   "source": [
    "users_genres=[]\n",
    "new_ratings['movie_id'].apply(finduserGen,users_genres=users_genres)\n",
    "Uj=relaBetweenUsrAndGen(users_genres,listGen)\n",
    "Uj[:4]"
   ]
  },
  {
   "cell_type": "code",
   "execution_count": 129,
   "id": "404836ff",
   "metadata": {},
   "outputs": [],
   "source": [
    "#Compute the cosine_similarity between movies and users. Hint: you can use sklearn.metrics.pairwise and cosine_similarity for quick calculation. "
   ]
  },
  {
   "cell_type": "code",
   "execution_count": 128,
   "id": "60141700",
   "metadata": {},
   "outputs": [
    {
     "data": {
      "text/plain": [
       "array([[0.46291005, 0.46291005, 0.4472136 , ..., 0.46291005, 0.4472136 ,\n",
       "        0.4472136 ],\n",
       "       [0.46291005, 0.46291005, 0.4472136 , ..., 0.46291005, 0.4472136 ,\n",
       "        0.4472136 ],\n",
       "       [0.37796447, 0.37796447, 0.36514837, ..., 0.37796447, 0.36514837,\n",
       "        0.36514837],\n",
       "       ...,\n",
       "       [0.37796447, 0.37796447, 0.36514837, ..., 0.37796447, 0.36514837,\n",
       "        0.36514837],\n",
       "       [0.26726124, 0.26726124, 0.25819889, ..., 0.26726124, 0.25819889,\n",
       "        0.25819889],\n",
       "       [0.37796447, 0.37796447, 0.36514837, ..., 0.37796447, 0.36514837,\n",
       "        0.36514837]])"
      ]
     },
     "execution_count": 128,
     "metadata": {},
     "output_type": "execute_result"
    }
   ],
   "source": [
    "from sklearn.metrics.pairwise import cosine_similarity\n",
    "import numpy as np\n",
    "cosine_sim = cosine_similarity(Ij,Uj)\n",
    "cosine_sim"
   ]
  },
  {
   "cell_type": "code",
   "execution_count": null,
   "id": "526b902d",
   "metadata": {},
   "outputs": [],
   "source": []
  }
 ],
 "metadata": {
  "kernelspec": {
   "display_name": "Python 3 (ipykernel)",
   "language": "python",
   "name": "python3"
  },
  "language_info": {
   "codemirror_mode": {
    "name": "ipython",
    "version": 3
   },
   "file_extension": ".py",
   "mimetype": "text/x-python",
   "name": "python",
   "nbconvert_exporter": "python",
   "pygments_lexer": "ipython3",
   "version": "3.9.7"
  }
 },
 "nbformat": 4,
 "nbformat_minor": 5
}
